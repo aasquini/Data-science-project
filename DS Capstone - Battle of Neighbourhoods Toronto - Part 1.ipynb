{
    "cells": [
        {
            "cell_type": "markdown",
            "metadata": {
                "collapsed": true
            },
            "source": "### Question 1 - Create Dataframe\n"
        },
        {
            "cell_type": "code",
            "execution_count": 1,
            "metadata": {},
            "outputs": [
                {
                    "name": "stdout",
                    "output_type": "stream",
                    "text": "Collecting watson-developer-cloud==1.5\n\u001b[?25l  Downloading https://files.pythonhosted.org/packages/57/fc/1a76bd8d60a6912db4c3382d288b10e033548abaa6a55a1292dedfe63e35/watson-developer-cloud-1.5.0.tar.gz (215kB)\n\u001b[K     |\u2588\u2588\u2588\u2588\u2588\u2588\u2588\u2588\u2588\u2588\u2588\u2588\u2588\u2588\u2588\u2588\u2588\u2588\u2588\u2588\u2588\u2588\u2588\u2588\u2588\u2588\u2588\u2588\u2588\u2588\u2588\u2588| 225kB 7.5MB/s eta 0:00:01\n\u001b[?25hRequirement already satisfied: requests<3.0,>=2.0 in /opt/conda/envs/Python36/lib/python3.6/site-packages (from watson-developer-cloud==1.5) (2.21.0)\nRequirement already satisfied: python_dateutil>=2.5.3 in /opt/conda/envs/Python36/lib/python3.6/site-packages (from watson-developer-cloud==1.5) (2.7.5)\nCollecting autobahn>=0.10.9 (from watson-developer-cloud==1.5)\n\u001b[?25l  Downloading https://files.pythonhosted.org/packages/a4/0c/b60afd6e1c512746cfcb3de945c056e1a6af93f5d5d5aa038e5105c696d7/autobahn-20.3.1-py2.py3-none-any.whl (872kB)\n\u001b[K     |\u2588\u2588\u2588\u2588\u2588\u2588\u2588\u2588\u2588\u2588\u2588\u2588\u2588\u2588\u2588\u2588\u2588\u2588\u2588\u2588\u2588\u2588\u2588\u2588\u2588\u2588\u2588\u2588\u2588\u2588\u2588\u2588| 880kB 8.7MB/s eta 0:00:01\n\u001b[?25hCollecting Twisted>=13.2.0 (from watson-developer-cloud==1.5)\n\u001b[?25l  Downloading https://files.pythonhosted.org/packages/88/e2/0c21fadf0dff02d145db02f24a6ed2c24993e7242d138babbca41de2f5a2/Twisted-19.10.0-cp36-cp36m-manylinux1_x86_64.whl (3.1MB)\n\u001b[K     |\u2588\u2588\u2588\u2588\u2588\u2588\u2588\u2588\u2588\u2588\u2588\u2588\u2588\u2588\u2588\u2588\u2588\u2588\u2588\u2588\u2588\u2588\u2588\u2588\u2588\u2588\u2588\u2588\u2588\u2588\u2588\u2588| 3.1MB 39.4MB/s eta 0:00:01\n\u001b[?25hRequirement already satisfied: pyOpenSSL>=16.2.0 in /opt/conda/envs/Python36/lib/python3.6/site-packages (from watson-developer-cloud==1.5) (19.0.0)\nCollecting service-identity>=17.0.0 (from watson-developer-cloud==1.5)\n  Downloading https://files.pythonhosted.org/packages/e9/7c/2195b890023e098f9618d43ebc337d83c8b38d414326685339eb024db2f6/service_identity-18.1.0-py2.py3-none-any.whl\nRequirement already satisfied: certifi>=2017.4.17 in /opt/conda/envs/Python36/lib/python3.6/site-packages (from requests<3.0,>=2.0->watson-developer-cloud==1.5) (2019.11.28)\nRequirement already satisfied: urllib3<1.25,>=1.21.1 in /opt/conda/envs/Python36/lib/python3.6/site-packages (from requests<3.0,>=2.0->watson-developer-cloud==1.5) (1.24.1)\nRequirement already satisfied: idna<2.9,>=2.5 in /opt/conda/envs/Python36/lib/python3.6/site-packages (from requests<3.0,>=2.0->watson-developer-cloud==1.5) (2.8)\nRequirement already satisfied: chardet<3.1.0,>=3.0.2 in /opt/conda/envs/Python36/lib/python3.6/site-packages (from requests<3.0,>=2.0->watson-developer-cloud==1.5) (3.0.4)\nRequirement already satisfied: six>=1.5 in /opt/conda/envs/Python36/lib/python3.6/site-packages (from python_dateutil>=2.5.3->watson-developer-cloud==1.5) (1.12.0)\nCollecting txaio>=20.1.1 (from autobahn>=0.10.9->watson-developer-cloud==1.5)\n  Downloading https://files.pythonhosted.org/packages/9f/87/39ab715612d1cacb445910ae4e603e87fdddeed90df640faaadf93ef45b0/txaio-20.1.1-py2.py3-none-any.whl\nCollecting cryptography>=2.7 (from autobahn>=0.10.9->watson-developer-cloud==1.5)\n\u001b[?25l  Downloading https://files.pythonhosted.org/packages/ca/9a/7cece52c46546e214e10811b36b2da52ce1ea7fa203203a629b8dfadad53/cryptography-2.8-cp34-abi3-manylinux2010_x86_64.whl (2.3MB)\n\u001b[K     |\u2588\u2588\u2588\u2588\u2588\u2588\u2588\u2588\u2588\u2588\u2588\u2588\u2588\u2588\u2588\u2588\u2588\u2588\u2588\u2588\u2588\u2588\u2588\u2588\u2588\u2588\u2588\u2588\u2588\u2588\u2588\u2588| 2.3MB 40.1MB/s eta 0:00:01\n\u001b[?25hCollecting constantly>=15.1 (from Twisted>=13.2.0->watson-developer-cloud==1.5)\n  Downloading https://files.pythonhosted.org/packages/b9/65/48c1909d0c0aeae6c10213340ce682db01b48ea900a7d9fce7a7910ff318/constantly-15.1.0-py2.py3-none-any.whl\nCollecting incremental>=16.10.1 (from Twisted>=13.2.0->watson-developer-cloud==1.5)\n  Downloading https://files.pythonhosted.org/packages/f5/1d/c98a587dc06e107115cf4a58b49de20b19222c83d75335a192052af4c4b7/incremental-17.5.0-py2.py3-none-any.whl\nCollecting PyHamcrest>=1.9.0 (from Twisted>=13.2.0->watson-developer-cloud==1.5)\n\u001b[?25l  Downloading https://files.pythonhosted.org/packages/40/16/e54cc65891f01cb62893540f44ffd3e8dab0a22443e1b438f1a9f5574bee/PyHamcrest-2.0.2-py3-none-any.whl (52kB)\n\u001b[K     |\u2588\u2588\u2588\u2588\u2588\u2588\u2588\u2588\u2588\u2588\u2588\u2588\u2588\u2588\u2588\u2588\u2588\u2588\u2588\u2588\u2588\u2588\u2588\u2588\u2588\u2588\u2588\u2588\u2588\u2588\u2588\u2588| 61kB 15.6MB/s eta 0:00:01\n\u001b[?25hCollecting Automat>=0.3.0 (from Twisted>=13.2.0->watson-developer-cloud==1.5)\n  Downloading https://files.pythonhosted.org/packages/dd/83/5f6f3c1a562674d65efc320257bdc0873ec53147835aeef7762fe7585273/Automat-20.2.0-py2.py3-none-any.whl\nRequirement already satisfied: attrs>=17.4.0 in /opt/conda/envs/Python36/lib/python3.6/site-packages (from Twisted>=13.2.0->watson-developer-cloud==1.5) (18.2.0)\nCollecting zope.interface>=4.4.2 (from Twisted>=13.2.0->watson-developer-cloud==1.5)\n\u001b[?25l  Downloading https://files.pythonhosted.org/packages/37/a7/1975afa75fc246da1c6d10dd2fbfe7914b342c7c2b2cd434e0c1fa75c900/zope.interface-4.7.2-cp36-cp36m-manylinux2010_x86_64.whl (168kB)\n\u001b[K     |\u2588\u2588\u2588\u2588\u2588\u2588\u2588\u2588\u2588\u2588\u2588\u2588\u2588\u2588\u2588\u2588\u2588\u2588\u2588\u2588\u2588\u2588\u2588\u2588\u2588\u2588\u2588\u2588\u2588\u2588\u2588\u2588| 174kB 42.2MB/s eta 0:00:01\n\u001b[?25hCollecting hyperlink>=17.1.1 (from Twisted>=13.2.0->watson-developer-cloud==1.5)\n  Downloading https://files.pythonhosted.org/packages/7f/91/e916ca10a2de1cb7101a9b24da546fb90ee14629e23160086cf3361c4fb8/hyperlink-19.0.0-py2.py3-none-any.whl\nCollecting pyasn1-modules (from service-identity>=17.0.0->watson-developer-cloud==1.5)\n\u001b[?25l  Downloading https://files.pythonhosted.org/packages/95/de/214830a981892a3e286c3794f41ae67a4495df1108c3da8a9f62159b9a9d/pyasn1_modules-0.2.8-py2.py3-none-any.whl (155kB)\n\u001b[K     |\u2588\u2588\u2588\u2588\u2588\u2588\u2588\u2588\u2588\u2588\u2588\u2588\u2588\u2588\u2588\u2588\u2588\u2588\u2588\u2588\u2588\u2588\u2588\u2588\u2588\u2588\u2588\u2588\u2588\u2588\u2588\u2588| 163kB 43.7MB/s eta 0:00:01\n\u001b[?25hCollecting pyasn1 (from service-identity>=17.0.0->watson-developer-cloud==1.5)\n\u001b[?25l  Downloading https://files.pythonhosted.org/packages/62/1e/a94a8d635fa3ce4cfc7f506003548d0a2447ae76fd5ca53932970fe3053f/pyasn1-0.4.8-py2.py3-none-any.whl (77kB)\n\u001b[K     |\u2588\u2588\u2588\u2588\u2588\u2588\u2588\u2588\u2588\u2588\u2588\u2588\u2588\u2588\u2588\u2588\u2588\u2588\u2588\u2588\u2588\u2588\u2588\u2588\u2588\u2588\u2588\u2588\u2588\u2588\u2588\u2588| 81kB 28.4MB/s eta 0:00:01\n\u001b[?25hRequirement already satisfied: cffi!=1.11.3,>=1.8 in /opt/conda/envs/Python36/lib/python3.6/site-packages (from cryptography>=2.7->autobahn>=0.10.9->watson-developer-cloud==1.5) (1.11.5)\nRequirement already satisfied: setuptools in /opt/conda/envs/Python36/lib/python3.6/site-packages (from zope.interface>=4.4.2->Twisted>=13.2.0->watson-developer-cloud==1.5) (40.8.0)\nRequirement already satisfied: pycparser in /opt/conda/envs/Python36/lib/python3.6/site-packages (from cffi!=1.11.3,>=1.8->cryptography>=2.7->autobahn>=0.10.9->watson-developer-cloud==1.5) (2.19)\nBuilding wheels for collected packages: watson-developer-cloud\n  Building wheel for watson-developer-cloud (setup.py) ... \u001b[?25ldone\n\u001b[?25h  Stored in directory: /home/dsxuser/.cache/pip/wheels/81/cd/de/4e0916f623c2d125502e493394fd333ed693960264d4b7e524\nSuccessfully built watson-developer-cloud\n\u001b[31mERROR: automat 20.2.0 has requirement attrs>=19.2.0, but you'll have attrs 18.2.0 which is incompatible.\u001b[0m\nInstalling collected packages: txaio, cryptography, autobahn, constantly, incremental, PyHamcrest, Automat, zope.interface, hyperlink, Twisted, pyasn1, pyasn1-modules, service-identity, watson-developer-cloud\n  Found existing installation: cryptography 2.5\n    Uninstalling cryptography-2.5:\n      Successfully uninstalled cryptography-2.5\nSuccessfully installed Automat-20.2.0 PyHamcrest-2.0.2 Twisted-19.10.0 autobahn-20.3.1 constantly-15.1.0 cryptography-2.8 hyperlink-19.0.0 incremental-17.5.0 pyasn1-0.4.8 pyasn1-modules-0.2.8 service-identity-18.1.0 txaio-20.1.1 watson-developer-cloud-1.5.0 zope.interface-4.7.2\nPackages installed\n"
                }
            ],
            "source": "#import libraries\nimport numpy as np\nimport pandas as pd\nimport requests\nimport json\nimport csv\n\n#install beautiful soup for web scraping\n!pip install watson-developer-cloud==1.5\nfrom bs4 import BeautifulSoup\n\nprint(\"Packages installed\")\n"
        },
        {
            "cell_type": "markdown",
            "metadata": {},
            "source": "#### Create the dataframe from Wikipedia"
        },
        {
            "cell_type": "code",
            "execution_count": 2,
            "metadata": {},
            "outputs": [
                {
                    "data": {
                        "text/html": "<div>\n<style scoped>\n    .dataframe tbody tr th:only-of-type {\n        vertical-align: middle;\n    }\n\n    .dataframe tbody tr th {\n        vertical-align: top;\n    }\n\n    .dataframe thead th {\n        text-align: right;\n    }\n</style>\n<table border=\"1\" class=\"dataframe\">\n  <thead>\n    <tr style=\"text-align: right;\">\n      <th></th>\n      <th>PostalCode</th>\n      <th>Borough</th>\n      <th>Neighbourhood</th>\n    </tr>\n  </thead>\n  <tbody>\n    <tr>\n      <th>2</th>\n      <td>M3A</td>\n      <td>North York</td>\n      <td>Parkwoods</td>\n    </tr>\n    <tr>\n      <th>3</th>\n      <td>M4A</td>\n      <td>North York</td>\n      <td>Victoria Village</td>\n    </tr>\n    <tr>\n      <th>4</th>\n      <td>M5A</td>\n      <td>Downtown Toronto</td>\n      <td>Harbourfront</td>\n    </tr>\n    <tr>\n      <th>5</th>\n      <td>M6A</td>\n      <td>North York</td>\n      <td>Lawrence Heights</td>\n    </tr>\n    <tr>\n      <th>6</th>\n      <td>M6A</td>\n      <td>North York</td>\n      <td>Lawrence Manor</td>\n    </tr>\n    <tr>\n      <th>7</th>\n      <td>M7A</td>\n      <td>Downtown Toronto</td>\n      <td>Queen's Park</td>\n    </tr>\n    <tr>\n      <th>9</th>\n      <td>M9A</td>\n      <td>Etobicoke</td>\n      <td>Islington Avenue</td>\n    </tr>\n    <tr>\n      <th>10</th>\n      <td>M1B</td>\n      <td>Scarborough</td>\n      <td>Rouge</td>\n    </tr>\n    <tr>\n      <th>11</th>\n      <td>M1B</td>\n      <td>Scarborough</td>\n      <td>Malvern</td>\n    </tr>\n    <tr>\n      <th>13</th>\n      <td>M3B</td>\n      <td>North York</td>\n      <td>Don Mills North</td>\n    </tr>\n  </tbody>\n</table>\n</div>",
                        "text/plain": "   PostalCode           Borough     Neighbourhood\n2         M3A        North York         Parkwoods\n3         M4A        North York  Victoria Village\n4         M5A  Downtown Toronto      Harbourfront\n5         M6A        North York  Lawrence Heights\n6         M6A        North York    Lawrence Manor\n7         M7A  Downtown Toronto      Queen's Park\n9         M9A         Etobicoke  Islington Avenue\n10        M1B       Scarborough             Rouge\n11        M1B       Scarborough           Malvern\n13        M3B        North York   Don Mills North"
                    },
                    "execution_count": 2,
                    "metadata": {},
                    "output_type": "execute_result"
                }
            ],
            "source": "# get url from Wikipedia\nsource = requests.get('https://en.wikipedia.org/wiki/List_of_postal_codes_of_Canada:_M').text\n\n#create a BeautifulSoup object\nsoup = BeautifulSoup(source, 'lxml')\n\n#create variable for the table of postal codes  \ntable = soup.find('table')\n\n# Create Pandas Date \ndf = pd.DataFrame(columns = ['PostalCode', 'Borough','Neighbourhood'])\n\n\n# Search all the postcode, borough, neighborhood \n#scan all rows in the first table\nfor tr in table.find_all('tr'):\n    #create empty dataframe\n    row_data=[]\n    #scan all cells in each row\n    for td in tr.find_all('td'):\n        #append row to dataframe and strip off non-text info\n        row_data.append(td.text.strip())\n    #add row from row_data to df when there are 3 columns\n    if len(row_data)==3:\n        df.loc[len(df)] = row_data\n\n\n#remove rows with Borough column = 'Not assigned'\ndf = df[df['Borough'] != 'Not assigned']\n\ndf.head(10)\n"
        },
        {
            "cell_type": "markdown",
            "metadata": {},
            "source": "#### Manipulate dataframes to bring boroughs with more than one neighbourhood to the same row. "
        },
        {
            "cell_type": "code",
            "execution_count": 3,
            "metadata": {},
            "outputs": [
                {
                    "data": {
                        "text/html": "<div>\n<style scoped>\n    .dataframe tbody tr th:only-of-type {\n        vertical-align: middle;\n    }\n\n    .dataframe tbody tr th {\n        vertical-align: top;\n    }\n\n    .dataframe thead th {\n        text-align: right;\n    }\n</style>\n<table border=\"1\" class=\"dataframe\">\n  <thead>\n    <tr style=\"text-align: right;\">\n      <th></th>\n      <th>PostalCode</th>\n      <th>Borough</th>\n      <th>Neighbourhood</th>\n    </tr>\n  </thead>\n  <tbody>\n    <tr>\n      <th>0</th>\n      <td>M3A</td>\n      <td>North York</td>\n      <td>Parkwoods</td>\n    </tr>\n    <tr>\n      <th>1</th>\n      <td>M4A</td>\n      <td>North York</td>\n      <td>Victoria Village</td>\n    </tr>\n    <tr>\n      <th>2</th>\n      <td>M5A</td>\n      <td>Downtown Toronto</td>\n      <td>Harbourfront</td>\n    </tr>\n    <tr>\n      <th>3</th>\n      <td>M6A</td>\n      <td>North York</td>\n      <td>Lawrence Heights, Lawrence Manor</td>\n    </tr>\n    <tr>\n      <th>5</th>\n      <td>M7A</td>\n      <td>Downtown Toronto</td>\n      <td>Queen's Park</td>\n    </tr>\n    <tr>\n      <th>6</th>\n      <td>M9A</td>\n      <td>Etobicoke</td>\n      <td>Islington Avenue</td>\n    </tr>\n    <tr>\n      <th>7</th>\n      <td>M1B</td>\n      <td>Scarborough</td>\n      <td>Rouge, Malvern</td>\n    </tr>\n    <tr>\n      <th>9</th>\n      <td>M3B</td>\n      <td>North York</td>\n      <td>Don Mills North</td>\n    </tr>\n    <tr>\n      <th>10</th>\n      <td>M4B</td>\n      <td>East York</td>\n      <td>Woodbine Gardens, Parkview Hill</td>\n    </tr>\n    <tr>\n      <th>12</th>\n      <td>M5B</td>\n      <td>Downtown Toronto</td>\n      <td>Ryerson, Garden District</td>\n    </tr>\n    <tr>\n      <th>14</th>\n      <td>M6B</td>\n      <td>North York</td>\n      <td>Glencairn</td>\n    </tr>\n  </tbody>\n</table>\n</div>",
                        "text/plain": "   PostalCode           Borough                     Neighbourhood\n0         M3A        North York                         Parkwoods\n1         M4A        North York                  Victoria Village\n2         M5A  Downtown Toronto                      Harbourfront\n3         M6A        North York  Lawrence Heights, Lawrence Manor\n5         M7A  Downtown Toronto                      Queen's Park\n6         M9A         Etobicoke                  Islington Avenue\n7         M1B       Scarborough                    Rouge, Malvern\n9         M3B        North York                   Don Mills North\n10        M4B         East York   Woodbine Gardens, Parkview Hill\n12        M5B  Downtown Toronto          Ryerson, Garden District\n14        M6B        North York                         Glencairn"
                    },
                    "execution_count": 3,
                    "metadata": {},
                    "output_type": "execute_result"
                }
            ],
            "source": "\n#create temporary dataframe and group by postal code\ntemp_df=df.groupby('PostalCode')['Neighbourhood'].apply(lambda x: \"%s\" % ', '.join(x))\n\n#reset the index to retain column headings\ntemp_df=temp_df.reset_index(drop=False)\n\n#Rename the column heading in the original dataframe - will be deleted after merge\ndf.rename(columns={'Neighbourhood':'Neighbourhood_old'},inplace=True)\n\n#merge df and temp_df on the Postal Code column - the common column between the two dfs\ndf_merge = pd.merge(df, temp_df, on='PostalCode')\n\n#drop the neighbourhood_old column\ndf_merge.drop(['Neighbourhood_old'],axis=1,inplace=True)\n\n#drop duplicate entries\ndf_merge.drop_duplicates(inplace=True)\n\n#display first 11 entries\ndf_merge.head(11)"
        },
        {
            "cell_type": "markdown",
            "metadata": {},
            "source": "#### Get the shape of the notebook"
        },
        {
            "cell_type": "code",
            "execution_count": 4,
            "metadata": {},
            "outputs": [
                {
                    "data": {
                        "text/plain": "(103, 3)"
                    },
                    "execution_count": 4,
                    "metadata": {},
                    "output_type": "execute_result"
                }
            ],
            "source": "#shape of notebook\ndf_merge.shape"
        }
    ],
    "metadata": {
        "kernelspec": {
            "display_name": "Python 3.6",
            "language": "python",
            "name": "python3"
        },
        "language_info": {
            "codemirror_mode": {
                "name": "ipython",
                "version": 3
            },
            "file_extension": ".py",
            "mimetype": "text/x-python",
            "name": "python",
            "nbconvert_exporter": "python",
            "pygments_lexer": "ipython3",
            "version": "3.6.9"
        }
    },
    "nbformat": 4,
    "nbformat_minor": 1
}