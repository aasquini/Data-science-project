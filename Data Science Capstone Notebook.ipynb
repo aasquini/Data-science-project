{
    "cells": [
        {
            "cell_type": "markdown",
            "metadata": {
                "collapsed": true
            },
            "source": "## IBM Coursera Applied Data Science Capstone Project ##\n\nThis notebook will be used to complete activities that make up the IBM / Coursera Applied Data Science Capstone Course as part of the IMB Professional Data Science Certificate"
        },
        {
            "cell_type": "code",
            "execution_count": 1,
            "metadata": {},
            "outputs": [
                {
                    "name": "stdout",
                    "output_type": "stream",
                    "text": "Hello Caspstone Project Course!\n"
                }
            ],
            "source": "#Part 1 - Create notebook, import libraries and run a simple print statement. Export the notebook to GitHub. \n\nimport pandas as pd\nimport numpy as np\n\nprint(\"Hello Caspstone Project Course!\")"
        }
    ],
    "metadata": {
        "kernelspec": {
            "display_name": "Python 3.6",
            "language": "python",
            "name": "python3"
        },
        "language_info": {
            "codemirror_mode": {
                "name": "ipython",
                "version": 3
            },
            "file_extension": ".py",
            "mimetype": "text/x-python",
            "name": "python",
            "nbconvert_exporter": "python",
            "pygments_lexer": "ipython3",
            "version": "3.6.9"
        }
    },
    "nbformat": 4,
    "nbformat_minor": 1
}